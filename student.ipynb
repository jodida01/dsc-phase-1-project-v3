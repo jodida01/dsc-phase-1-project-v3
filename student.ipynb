{
 "cells": [
  {
   "cell_type": "markdown",
   "metadata": {},
   "source": [
    "## Final Project Submission\n",
    "\n",
    "Please fill out:\n",
    "* Student name: Judah Odida\n",
    "* Student pace:  part time \n",
    "* Scheduled project review date/time:29/04/2025\n",
    "* Instructor name: Maryann Mwikali\n",
    "* Blog post URL:\n"
   ]
  },
  {
   "cell_type": "markdown",
   "metadata": {},
   "source": [
    "# Project Overview\n",
    "## Project Name: Aircraft Risk Evaluation for Business Expansion\n",
    "Objective: Help the company choose low-risk aircraft for a new aviation business by analyzing aviation accident data.\n",
    "\n",
    "\n",
    "Duration: 1 week"
   ]
  },
  {
   "cell_type": "markdown",
   "metadata": {},
   "source": [
    "# Data Overview\n",
    "\n",
    "## Dataset: Aviation_Data.csv\n",
    "\n",
    "Rows: 90,348\n",
    "\n",
    "Columns: 31\n",
    "\n",
    "Source: National Transportation Safety Board (NTSB) accident records."
   ]
  },
  {
   "cell_type": "markdown",
   "metadata": {},
   "source": [
    "# Key Steps Performed\n",
    "# 1.) Data Cleaning:\n",
    "\n",
    ". Selected relevant columns (Make, Model, Injury.Severity, etc.)\n",
    "\n",
    ". Converted injury counts to numeric format.\n",
    "\n",
    ". Filled missing categorical values with \"Unknown\".\n",
    "\n",
    ". Removed entries missing both Make and Model.\n",
    "\n",
    "\n",
    "# 2.) Exploratory Data Analysis:\n",
    "\n",
    ". Summary statistics of accidents.\n",
    "\n",
    ". Injury severity and aircraft damage types explored.\n",
    "\n",
    "\n",
    "# 3.) Risk Analysis:\n",
    "\n",
    ". Computed a Risk Score:\n",
    "\n",
    ". Risk Score = (Fatal Injuries × 3) + (Serious Injuries × 2) + (Minor Injuries × 1) / Total Incidents\n",
    "\n",
    ". Lower Risk Score = Safer Aircraft\n",
    "\n",
    "\n",
    "# 4.)  Filtering:\n",
    "\n",
    "Aircraft models with at least 5 incidents were considered for fairness."
   ]
  },
  {
   "cell_type": "markdown",
   "metadata": {},
   "source": [
    "# Tasks"
   ]
  },
  {
   "cell_type": "markdown",
   "metadata": {},
   "source": [
    "# 1) Data Cleaning:\n",
    "\n",
    ". Handle missing values\n",
    "\n",
    ". Remove irrelevant columns\n",
    "\n",
    ". Fix data types"
   ]
  },
  {
   "cell_type": "code",
   "execution_count": 5,
   "metadata": {},
   "outputs": [
    {
     "name": "stderr",
     "output_type": "stream",
     "text": [
      "c:\\Users\\User\\anaconda362\\envs\\learn-env\\lib\\site-packages\\IPython\\core\\interactiveshell.py:3145: DtypeWarning: Columns (6,7,28) have mixed types.Specify dtype option on import or set low_memory=False.\n",
      "  has_raised = await self.run_ast_nodes(code_ast.body, cell_name,\n"
     ]
    },
    {
     "data": {
      "text/html": [
       "<div>\n",
       "<style scoped>\n",
       "    .dataframe tbody tr th:only-of-type {\n",
       "        vertical-align: middle;\n",
       "    }\n",
       "\n",
       "    .dataframe tbody tr th {\n",
       "        vertical-align: top;\n",
       "    }\n",
       "\n",
       "    .dataframe thead th {\n",
       "        text-align: right;\n",
       "    }\n",
       "</style>\n",
       "<table border=\"1\" class=\"dataframe\">\n",
       "  <thead>\n",
       "    <tr style=\"text-align: right;\">\n",
       "      <th></th>\n",
       "      <th>Event.Id</th>\n",
       "      <th>Investigation.Type</th>\n",
       "      <th>Accident.Number</th>\n",
       "      <th>Event.Date</th>\n",
       "      <th>Location</th>\n",
       "      <th>Country</th>\n",
       "      <th>Latitude</th>\n",
       "      <th>Longitude</th>\n",
       "      <th>Airport.Code</th>\n",
       "      <th>Airport.Name</th>\n",
       "      <th>...</th>\n",
       "      <th>Purpose.of.flight</th>\n",
       "      <th>Air.carrier</th>\n",
       "      <th>Total.Fatal.Injuries</th>\n",
       "      <th>Total.Serious.Injuries</th>\n",
       "      <th>Total.Minor.Injuries</th>\n",
       "      <th>Total.Uninjured</th>\n",
       "      <th>Weather.Condition</th>\n",
       "      <th>Broad.phase.of.flight</th>\n",
       "      <th>Report.Status</th>\n",
       "      <th>Publication.Date</th>\n",
       "    </tr>\n",
       "  </thead>\n",
       "  <tbody>\n",
       "    <tr>\n",
       "      <th>0</th>\n",
       "      <td>20001218X45444</td>\n",
       "      <td>Accident</td>\n",
       "      <td>SEA87LA080</td>\n",
       "      <td>1948-10-24</td>\n",
       "      <td>MOOSE CREEK, ID</td>\n",
       "      <td>United States</td>\n",
       "      <td>NaN</td>\n",
       "      <td>NaN</td>\n",
       "      <td>NaN</td>\n",
       "      <td>NaN</td>\n",
       "      <td>...</td>\n",
       "      <td>Personal</td>\n",
       "      <td>NaN</td>\n",
       "      <td>2.0</td>\n",
       "      <td>0.0</td>\n",
       "      <td>0.0</td>\n",
       "      <td>0.0</td>\n",
       "      <td>UNK</td>\n",
       "      <td>Cruise</td>\n",
       "      <td>Probable Cause</td>\n",
       "      <td>NaN</td>\n",
       "    </tr>\n",
       "    <tr>\n",
       "      <th>1</th>\n",
       "      <td>20001218X45447</td>\n",
       "      <td>Accident</td>\n",
       "      <td>LAX94LA336</td>\n",
       "      <td>1962-07-19</td>\n",
       "      <td>BRIDGEPORT, CA</td>\n",
       "      <td>United States</td>\n",
       "      <td>NaN</td>\n",
       "      <td>NaN</td>\n",
       "      <td>NaN</td>\n",
       "      <td>NaN</td>\n",
       "      <td>...</td>\n",
       "      <td>Personal</td>\n",
       "      <td>NaN</td>\n",
       "      <td>4.0</td>\n",
       "      <td>0.0</td>\n",
       "      <td>0.0</td>\n",
       "      <td>0.0</td>\n",
       "      <td>UNK</td>\n",
       "      <td>Unknown</td>\n",
       "      <td>Probable Cause</td>\n",
       "      <td>19-09-1996</td>\n",
       "    </tr>\n",
       "    <tr>\n",
       "      <th>2</th>\n",
       "      <td>20061025X01555</td>\n",
       "      <td>Accident</td>\n",
       "      <td>NYC07LA005</td>\n",
       "      <td>1974-08-30</td>\n",
       "      <td>Saltville, VA</td>\n",
       "      <td>United States</td>\n",
       "      <td>36.9222</td>\n",
       "      <td>-81.8781</td>\n",
       "      <td>NaN</td>\n",
       "      <td>NaN</td>\n",
       "      <td>...</td>\n",
       "      <td>Personal</td>\n",
       "      <td>NaN</td>\n",
       "      <td>3.0</td>\n",
       "      <td>NaN</td>\n",
       "      <td>NaN</td>\n",
       "      <td>NaN</td>\n",
       "      <td>IMC</td>\n",
       "      <td>Cruise</td>\n",
       "      <td>Probable Cause</td>\n",
       "      <td>26-02-2007</td>\n",
       "    </tr>\n",
       "    <tr>\n",
       "      <th>3</th>\n",
       "      <td>20001218X45448</td>\n",
       "      <td>Accident</td>\n",
       "      <td>LAX96LA321</td>\n",
       "      <td>1977-06-19</td>\n",
       "      <td>EUREKA, CA</td>\n",
       "      <td>United States</td>\n",
       "      <td>NaN</td>\n",
       "      <td>NaN</td>\n",
       "      <td>NaN</td>\n",
       "      <td>NaN</td>\n",
       "      <td>...</td>\n",
       "      <td>Personal</td>\n",
       "      <td>NaN</td>\n",
       "      <td>2.0</td>\n",
       "      <td>0.0</td>\n",
       "      <td>0.0</td>\n",
       "      <td>0.0</td>\n",
       "      <td>IMC</td>\n",
       "      <td>Cruise</td>\n",
       "      <td>Probable Cause</td>\n",
       "      <td>12-09-2000</td>\n",
       "    </tr>\n",
       "    <tr>\n",
       "      <th>4</th>\n",
       "      <td>20041105X01764</td>\n",
       "      <td>Accident</td>\n",
       "      <td>CHI79FA064</td>\n",
       "      <td>1979-08-02</td>\n",
       "      <td>Canton, OH</td>\n",
       "      <td>United States</td>\n",
       "      <td>NaN</td>\n",
       "      <td>NaN</td>\n",
       "      <td>NaN</td>\n",
       "      <td>NaN</td>\n",
       "      <td>...</td>\n",
       "      <td>Personal</td>\n",
       "      <td>NaN</td>\n",
       "      <td>1.0</td>\n",
       "      <td>2.0</td>\n",
       "      <td>NaN</td>\n",
       "      <td>0.0</td>\n",
       "      <td>VMC</td>\n",
       "      <td>Approach</td>\n",
       "      <td>Probable Cause</td>\n",
       "      <td>16-04-1980</td>\n",
       "    </tr>\n",
       "    <tr>\n",
       "      <th>5</th>\n",
       "      <td>20170710X52551</td>\n",
       "      <td>Accident</td>\n",
       "      <td>NYC79AA106</td>\n",
       "      <td>1979-09-17</td>\n",
       "      <td>BOSTON, MA</td>\n",
       "      <td>United States</td>\n",
       "      <td>42.4453</td>\n",
       "      <td>-70.7583</td>\n",
       "      <td>NaN</td>\n",
       "      <td>NaN</td>\n",
       "      <td>...</td>\n",
       "      <td>NaN</td>\n",
       "      <td>Air Canada</td>\n",
       "      <td>NaN</td>\n",
       "      <td>NaN</td>\n",
       "      <td>1.0</td>\n",
       "      <td>44.0</td>\n",
       "      <td>VMC</td>\n",
       "      <td>Climb</td>\n",
       "      <td>Probable Cause</td>\n",
       "      <td>19-09-2017</td>\n",
       "    </tr>\n",
       "    <tr>\n",
       "      <th>6</th>\n",
       "      <td>20001218X45446</td>\n",
       "      <td>Accident</td>\n",
       "      <td>CHI81LA106</td>\n",
       "      <td>1981-08-01</td>\n",
       "      <td>COTTON, MN</td>\n",
       "      <td>United States</td>\n",
       "      <td>NaN</td>\n",
       "      <td>NaN</td>\n",
       "      <td>NaN</td>\n",
       "      <td>NaN</td>\n",
       "      <td>...</td>\n",
       "      <td>Personal</td>\n",
       "      <td>NaN</td>\n",
       "      <td>4.0</td>\n",
       "      <td>0.0</td>\n",
       "      <td>0.0</td>\n",
       "      <td>0.0</td>\n",
       "      <td>IMC</td>\n",
       "      <td>Unknown</td>\n",
       "      <td>Probable Cause</td>\n",
       "      <td>06-11-2001</td>\n",
       "    </tr>\n",
       "    <tr>\n",
       "      <th>7</th>\n",
       "      <td>20020909X01562</td>\n",
       "      <td>Accident</td>\n",
       "      <td>SEA82DA022</td>\n",
       "      <td>1982-01-01</td>\n",
       "      <td>PULLMAN, WA</td>\n",
       "      <td>United States</td>\n",
       "      <td>NaN</td>\n",
       "      <td>NaN</td>\n",
       "      <td>NaN</td>\n",
       "      <td>BLACKBURN AG STRIP</td>\n",
       "      <td>...</td>\n",
       "      <td>Personal</td>\n",
       "      <td>NaN</td>\n",
       "      <td>0.0</td>\n",
       "      <td>0.0</td>\n",
       "      <td>0.0</td>\n",
       "      <td>2.0</td>\n",
       "      <td>VMC</td>\n",
       "      <td>Takeoff</td>\n",
       "      <td>Probable Cause</td>\n",
       "      <td>01-01-1982</td>\n",
       "    </tr>\n",
       "    <tr>\n",
       "      <th>8</th>\n",
       "      <td>20020909X01561</td>\n",
       "      <td>Accident</td>\n",
       "      <td>NYC82DA015</td>\n",
       "      <td>1982-01-01</td>\n",
       "      <td>EAST HANOVER, NJ</td>\n",
       "      <td>United States</td>\n",
       "      <td>NaN</td>\n",
       "      <td>NaN</td>\n",
       "      <td>N58</td>\n",
       "      <td>HANOVER</td>\n",
       "      <td>...</td>\n",
       "      <td>Business</td>\n",
       "      <td>NaN</td>\n",
       "      <td>0.0</td>\n",
       "      <td>0.0</td>\n",
       "      <td>0.0</td>\n",
       "      <td>2.0</td>\n",
       "      <td>IMC</td>\n",
       "      <td>Landing</td>\n",
       "      <td>Probable Cause</td>\n",
       "      <td>01-01-1982</td>\n",
       "    </tr>\n",
       "    <tr>\n",
       "      <th>9</th>\n",
       "      <td>20020909X01560</td>\n",
       "      <td>Accident</td>\n",
       "      <td>MIA82DA029</td>\n",
       "      <td>1982-01-01</td>\n",
       "      <td>JACKSONVILLE, FL</td>\n",
       "      <td>United States</td>\n",
       "      <td>NaN</td>\n",
       "      <td>NaN</td>\n",
       "      <td>JAX</td>\n",
       "      <td>JACKSONVILLE INTL</td>\n",
       "      <td>...</td>\n",
       "      <td>Personal</td>\n",
       "      <td>NaN</td>\n",
       "      <td>0.0</td>\n",
       "      <td>0.0</td>\n",
       "      <td>3.0</td>\n",
       "      <td>0.0</td>\n",
       "      <td>IMC</td>\n",
       "      <td>Cruise</td>\n",
       "      <td>Probable Cause</td>\n",
       "      <td>01-01-1982</td>\n",
       "    </tr>\n",
       "  </tbody>\n",
       "</table>\n",
       "<p>10 rows × 31 columns</p>\n",
       "</div>"
      ],
      "text/plain": [
       "         Event.Id Investigation.Type Accident.Number  Event.Date  \\\n",
       "0  20001218X45444           Accident      SEA87LA080  1948-10-24   \n",
       "1  20001218X45447           Accident      LAX94LA336  1962-07-19   \n",
       "2  20061025X01555           Accident      NYC07LA005  1974-08-30   \n",
       "3  20001218X45448           Accident      LAX96LA321  1977-06-19   \n",
       "4  20041105X01764           Accident      CHI79FA064  1979-08-02   \n",
       "5  20170710X52551           Accident      NYC79AA106  1979-09-17   \n",
       "6  20001218X45446           Accident      CHI81LA106  1981-08-01   \n",
       "7  20020909X01562           Accident      SEA82DA022  1982-01-01   \n",
       "8  20020909X01561           Accident      NYC82DA015  1982-01-01   \n",
       "9  20020909X01560           Accident      MIA82DA029  1982-01-01   \n",
       "\n",
       "           Location        Country Latitude Longitude Airport.Code  \\\n",
       "0   MOOSE CREEK, ID  United States      NaN       NaN          NaN   \n",
       "1    BRIDGEPORT, CA  United States      NaN       NaN          NaN   \n",
       "2     Saltville, VA  United States  36.9222  -81.8781          NaN   \n",
       "3        EUREKA, CA  United States      NaN       NaN          NaN   \n",
       "4        Canton, OH  United States      NaN       NaN          NaN   \n",
       "5        BOSTON, MA  United States  42.4453  -70.7583          NaN   \n",
       "6        COTTON, MN  United States      NaN       NaN          NaN   \n",
       "7       PULLMAN, WA  United States      NaN       NaN          NaN   \n",
       "8  EAST HANOVER, NJ  United States      NaN       NaN          N58   \n",
       "9  JACKSONVILLE, FL  United States      NaN       NaN          JAX   \n",
       "\n",
       "         Airport.Name  ... Purpose.of.flight Air.carrier Total.Fatal.Injuries  \\\n",
       "0                 NaN  ...          Personal         NaN                  2.0   \n",
       "1                 NaN  ...          Personal         NaN                  4.0   \n",
       "2                 NaN  ...          Personal         NaN                  3.0   \n",
       "3                 NaN  ...          Personal         NaN                  2.0   \n",
       "4                 NaN  ...          Personal         NaN                  1.0   \n",
       "5                 NaN  ...               NaN  Air Canada                  NaN   \n",
       "6                 NaN  ...          Personal         NaN                  4.0   \n",
       "7  BLACKBURN AG STRIP  ...          Personal         NaN                  0.0   \n",
       "8             HANOVER  ...          Business         NaN                  0.0   \n",
       "9   JACKSONVILLE INTL  ...          Personal         NaN                  0.0   \n",
       "\n",
       "  Total.Serious.Injuries Total.Minor.Injuries Total.Uninjured  \\\n",
       "0                    0.0                  0.0             0.0   \n",
       "1                    0.0                  0.0             0.0   \n",
       "2                    NaN                  NaN             NaN   \n",
       "3                    0.0                  0.0             0.0   \n",
       "4                    2.0                  NaN             0.0   \n",
       "5                    NaN                  1.0            44.0   \n",
       "6                    0.0                  0.0             0.0   \n",
       "7                    0.0                  0.0             2.0   \n",
       "8                    0.0                  0.0             2.0   \n",
       "9                    0.0                  3.0             0.0   \n",
       "\n",
       "  Weather.Condition  Broad.phase.of.flight   Report.Status Publication.Date  \n",
       "0               UNK                 Cruise  Probable Cause              NaN  \n",
       "1               UNK                Unknown  Probable Cause       19-09-1996  \n",
       "2               IMC                 Cruise  Probable Cause       26-02-2007  \n",
       "3               IMC                 Cruise  Probable Cause       12-09-2000  \n",
       "4               VMC               Approach  Probable Cause       16-04-1980  \n",
       "5               VMC                  Climb  Probable Cause       19-09-2017  \n",
       "6               IMC                Unknown  Probable Cause       06-11-2001  \n",
       "7               VMC                Takeoff  Probable Cause       01-01-1982  \n",
       "8               IMC                Landing  Probable Cause       01-01-1982  \n",
       "9               IMC                 Cruise  Probable Cause       01-01-1982  \n",
       "\n",
       "[10 rows x 31 columns]"
      ]
     },
     "execution_count": 5,
     "metadata": {},
     "output_type": "execute_result"
    }
   ],
   "source": [
    "# Aviation Risk Analysis Project\n",
    "\n",
    "# This notebook performs a full data cleaning, analysis, and risk assessment\n",
    "# of aviation data to recommend low-risk aircraft for business expansion.\n",
    "\n",
    "# Goal: Identify aircraft models with the lowest accident risk.\n",
    "\n",
    "# Import libraries\n",
    "import pandas as pd\n",
    "import matplotlib.pyplot as plt\n",
    "import seaborn as sns\n",
    "\n",
    "# Load the data\n",
    "df = pd.read_csv('Aviation_Data.csv')\n",
    "df.head(10)\n"
   ]
  },
  {
   "cell_type": "code",
   "execution_count": 6,
   "metadata": {},
   "outputs": [
    {
     "data": {
      "text/html": [
       "<div>\n",
       "<style scoped>\n",
       "    .dataframe tbody tr th:only-of-type {\n",
       "        vertical-align: middle;\n",
       "    }\n",
       "\n",
       "    .dataframe tbody tr th {\n",
       "        vertical-align: top;\n",
       "    }\n",
       "\n",
       "    .dataframe thead th {\n",
       "        text-align: right;\n",
       "    }\n",
       "</style>\n",
       "<table border=\"1\" class=\"dataframe\">\n",
       "  <thead>\n",
       "    <tr style=\"text-align: right;\">\n",
       "      <th></th>\n",
       "      <th>Investigation.Type</th>\n",
       "      <th>Accident.Number</th>\n",
       "      <th>Model</th>\n",
       "      <th>Event.Date</th>\n",
       "      <th>Total.Fatal.Injuries</th>\n",
       "      <th>Total.Serious.Injuries</th>\n",
       "      <th>Total.Minor.Injuries</th>\n",
       "      <th>Total.Uninjured</th>\n",
       "      <th>Event.Id</th>\n",
       "    </tr>\n",
       "  </thead>\n",
       "  <tbody>\n",
       "    <tr>\n",
       "      <th>0</th>\n",
       "      <td>Accident</td>\n",
       "      <td>SEA87LA080</td>\n",
       "      <td>108-3</td>\n",
       "      <td>1948-10-24</td>\n",
       "      <td>2.0</td>\n",
       "      <td>0.0</td>\n",
       "      <td>0.0</td>\n",
       "      <td>0.0</td>\n",
       "      <td>20001218X45444</td>\n",
       "    </tr>\n",
       "    <tr>\n",
       "      <th>1</th>\n",
       "      <td>Accident</td>\n",
       "      <td>LAX94LA336</td>\n",
       "      <td>PA24-180</td>\n",
       "      <td>1962-07-19</td>\n",
       "      <td>4.0</td>\n",
       "      <td>0.0</td>\n",
       "      <td>0.0</td>\n",
       "      <td>0.0</td>\n",
       "      <td>20001218X45447</td>\n",
       "    </tr>\n",
       "    <tr>\n",
       "      <th>2</th>\n",
       "      <td>Accident</td>\n",
       "      <td>NYC07LA005</td>\n",
       "      <td>172M</td>\n",
       "      <td>1974-08-30</td>\n",
       "      <td>3.0</td>\n",
       "      <td>NaN</td>\n",
       "      <td>NaN</td>\n",
       "      <td>NaN</td>\n",
       "      <td>20061025X01555</td>\n",
       "    </tr>\n",
       "    <tr>\n",
       "      <th>3</th>\n",
       "      <td>Accident</td>\n",
       "      <td>LAX96LA321</td>\n",
       "      <td>112</td>\n",
       "      <td>1977-06-19</td>\n",
       "      <td>2.0</td>\n",
       "      <td>0.0</td>\n",
       "      <td>0.0</td>\n",
       "      <td>0.0</td>\n",
       "      <td>20001218X45448</td>\n",
       "    </tr>\n",
       "    <tr>\n",
       "      <th>4</th>\n",
       "      <td>Accident</td>\n",
       "      <td>CHI79FA064</td>\n",
       "      <td>501</td>\n",
       "      <td>1979-08-02</td>\n",
       "      <td>1.0</td>\n",
       "      <td>2.0</td>\n",
       "      <td>NaN</td>\n",
       "      <td>0.0</td>\n",
       "      <td>20041105X01764</td>\n",
       "    </tr>\n",
       "    <tr>\n",
       "      <th>5</th>\n",
       "      <td>Accident</td>\n",
       "      <td>NYC79AA106</td>\n",
       "      <td>DC9</td>\n",
       "      <td>1979-09-17</td>\n",
       "      <td>NaN</td>\n",
       "      <td>NaN</td>\n",
       "      <td>1.0</td>\n",
       "      <td>44.0</td>\n",
       "      <td>20170710X52551</td>\n",
       "    </tr>\n",
       "    <tr>\n",
       "      <th>6</th>\n",
       "      <td>Accident</td>\n",
       "      <td>CHI81LA106</td>\n",
       "      <td>180</td>\n",
       "      <td>1981-08-01</td>\n",
       "      <td>4.0</td>\n",
       "      <td>0.0</td>\n",
       "      <td>0.0</td>\n",
       "      <td>0.0</td>\n",
       "      <td>20001218X45446</td>\n",
       "    </tr>\n",
       "    <tr>\n",
       "      <th>7</th>\n",
       "      <td>Accident</td>\n",
       "      <td>SEA82DA022</td>\n",
       "      <td>140</td>\n",
       "      <td>1982-01-01</td>\n",
       "      <td>0.0</td>\n",
       "      <td>0.0</td>\n",
       "      <td>0.0</td>\n",
       "      <td>2.0</td>\n",
       "      <td>20020909X01562</td>\n",
       "    </tr>\n",
       "    <tr>\n",
       "      <th>8</th>\n",
       "      <td>Accident</td>\n",
       "      <td>NYC82DA015</td>\n",
       "      <td>401B</td>\n",
       "      <td>1982-01-01</td>\n",
       "      <td>0.0</td>\n",
       "      <td>0.0</td>\n",
       "      <td>0.0</td>\n",
       "      <td>2.0</td>\n",
       "      <td>20020909X01561</td>\n",
       "    </tr>\n",
       "    <tr>\n",
       "      <th>9</th>\n",
       "      <td>Accident</td>\n",
       "      <td>MIA82DA029</td>\n",
       "      <td>NAVION L-17B</td>\n",
       "      <td>1982-01-01</td>\n",
       "      <td>0.0</td>\n",
       "      <td>0.0</td>\n",
       "      <td>3.0</td>\n",
       "      <td>0.0</td>\n",
       "      <td>20020909X01560</td>\n",
       "    </tr>\n",
       "  </tbody>\n",
       "</table>\n",
       "</div>"
      ],
      "text/plain": [
       "  Investigation.Type Accident.Number         Model  Event.Date  \\\n",
       "0           Accident      SEA87LA080         108-3  1948-10-24   \n",
       "1           Accident      LAX94LA336      PA24-180  1962-07-19   \n",
       "2           Accident      NYC07LA005          172M  1974-08-30   \n",
       "3           Accident      LAX96LA321           112  1977-06-19   \n",
       "4           Accident      CHI79FA064           501  1979-08-02   \n",
       "5           Accident      NYC79AA106           DC9  1979-09-17   \n",
       "6           Accident      CHI81LA106           180  1981-08-01   \n",
       "7           Accident      SEA82DA022           140  1982-01-01   \n",
       "8           Accident      NYC82DA015          401B  1982-01-01   \n",
       "9           Accident      MIA82DA029  NAVION L-17B  1982-01-01   \n",
       "\n",
       "   Total.Fatal.Injuries  Total.Serious.Injuries  Total.Minor.Injuries  \\\n",
       "0                   2.0                     0.0                   0.0   \n",
       "1                   4.0                     0.0                   0.0   \n",
       "2                   3.0                     NaN                   NaN   \n",
       "3                   2.0                     0.0                   0.0   \n",
       "4                   1.0                     2.0                   NaN   \n",
       "5                   NaN                     NaN                   1.0   \n",
       "6                   4.0                     0.0                   0.0   \n",
       "7                   0.0                     0.0                   0.0   \n",
       "8                   0.0                     0.0                   0.0   \n",
       "9                   0.0                     0.0                   3.0   \n",
       "\n",
       "   Total.Uninjured        Event.Id  \n",
       "0              0.0  20001218X45444  \n",
       "1              0.0  20001218X45447  \n",
       "2              NaN  20061025X01555  \n",
       "3              0.0  20001218X45448  \n",
       "4              0.0  20041105X01764  \n",
       "5             44.0  20170710X52551  \n",
       "6              0.0  20001218X45446  \n",
       "7              2.0  20020909X01562  \n",
       "8              2.0  20020909X01561  \n",
       "9              0.0  20020909X01560  "
      ]
     },
     "execution_count": 6,
     "metadata": {},
     "output_type": "execute_result"
    }
   ],
   "source": [
    "# creating copy of total number of accidents\n",
    "df_accidents = df.copy()\n",
    "df_accidents = df_accidents[['Investigation.Type', 'Accident.Number', 'Model', 'Event.Date', 'Total.Fatal.Injuries', 'Total.Serious.Injuries', 'Total.Minor.Injuries','Total.Uninjured','Event.Id']].copy()\n",
    "#df_accidents = df_accidents[df_accidents['Accident Type'] != 'Incident']\n",
    "df_accidents.head(10)"
   ]
  },
  {
   "cell_type": "code",
   "execution_count": 7,
   "metadata": {},
   "outputs": [],
   "source": [
    "df_accidents.to_csv('df_accidents.csv', index=False)"
   ]
  },
  {
   "cell_type": "code",
   "execution_count": 8,
   "metadata": {},
   "outputs": [
    {
     "name": "stdout",
     "output_type": "stream",
     "text": [
      "Total columns in the dataset: 31\n"
     ]
    }
   ],
   "source": [
    "#total columns\n",
    "print(\"Total columns in the dataset:\", len(df.columns))\n",
    "#total rows"
   ]
  },
  {
   "cell_type": "code",
   "execution_count": 9,
   "metadata": {},
   "outputs": [
    {
     "name": "stdout",
     "output_type": "stream",
     "text": [
      "Total rows in the dataset: 90348\n"
     ]
    }
   ],
   "source": [
    "#total rows\n",
    "print(\"Total rows in the dataset:\", len(df))"
   ]
  },
  {
   "cell_type": "code",
   "execution_count": 10,
   "metadata": {},
   "outputs": [],
   "source": [
    "# Selecting relevant columns\n",
    "columns_to_use = [\n",
    "    'Make', 'Model', 'Injury.Severity', 'Aircraft.damage', \n",
    "    'Total.Fatal.Injuries', 'Total.Serious.Injuries', 'Total.Minor.Injuries',\n",
    "    'Total.Uninjured', 'Purpose.of.flight', 'Weather.Condition', 'Broad.phase.of.flight'\n",
    "]"
   ]
  },
  {
   "cell_type": "code",
   "execution_count": 11,
   "metadata": {},
   "outputs": [
    {
     "name": "stdout",
     "output_type": "stream",
     "text": [
      "<class 'pandas.core.frame.DataFrame'>\n",
      "RangeIndex: 90348 entries, 0 to 90347\n",
      "Data columns (total 11 columns):\n",
      " #   Column                  Non-Null Count  Dtype  \n",
      "---  ------                  --------------  -----  \n",
      " 0   Make                    88826 non-null  object \n",
      " 1   Model                   88797 non-null  object \n",
      " 2   Injury.Severity         87889 non-null  object \n",
      " 3   Aircraft.damage         85695 non-null  object \n",
      " 4   Total.Fatal.Injuries    77488 non-null  float64\n",
      " 5   Total.Serious.Injuries  76379 non-null  float64\n",
      " 6   Total.Minor.Injuries    76956 non-null  float64\n",
      " 7   Total.Uninjured         82977 non-null  float64\n",
      " 8   Purpose.of.flight       82697 non-null  object \n",
      " 9   Weather.Condition       84397 non-null  object \n",
      " 10  Broad.phase.of.flight   61724 non-null  object \n",
      "dtypes: float64(4), object(7)\n",
      "memory usage: 7.6+ MB\n"
     ]
    }
   ],
   "source": [
    "df1_cleaned = df[columns_to_use]\n",
    "df1_cleaned.info()"
   ]
  },
  {
   "cell_type": "code",
   "execution_count": 12,
   "metadata": {},
   "outputs": [
    {
     "name": "stderr",
     "output_type": "stream",
     "text": [
      "<ipython-input-12-42dd9ce9e282>:4: SettingWithCopyWarning: \n",
      "A value is trying to be set on a copy of a slice from a DataFrame.\n",
      "Try using .loc[row_indexer,col_indexer] = value instead\n",
      "\n",
      "See the caveats in the documentation: https://pandas.pydata.org/pandas-docs/stable/user_guide/indexing.html#returning-a-view-versus-a-copy\n",
      "  df1_cleaned[col] = pd.to_numeric(df1_cleaned[col], errors='coerce')\n"
     ]
    },
    {
     "data": {
      "text/plain": [
       "0        0.0\n",
       "1        0.0\n",
       "2        NaN\n",
       "3        0.0\n",
       "4        0.0\n",
       "        ... \n",
       "90343    0.0\n",
       "90344    0.0\n",
       "90345    1.0\n",
       "90346    0.0\n",
       "90347    1.0\n",
       "Name: Total.Uninjured, Length: 90348, dtype: float64"
      ]
     },
     "execution_count": 12,
     "metadata": {},
     "output_type": "execute_result"
    }
   ],
   "source": [
    "# Convert injuries to numeric\n",
    "injury_cols = ['Total.Fatal.Injuries', 'Total.Serious.Injuries', 'Total.Minor.Injuries', 'Total.Uninjured']\n",
    "for col in injury_cols:\n",
    "    df1_cleaned[col] = pd.to_numeric(df1_cleaned[col], errors='coerce')\n",
    "df1_cleaned[col]"
   ]
  },
  {
   "cell_type": "code",
   "execution_count": 13,
   "metadata": {},
   "outputs": [
    {
     "name": "stderr",
     "output_type": "stream",
     "text": [
      "c:\\Users\\User\\anaconda362\\envs\\learn-env\\lib\\site-packages\\pandas\\core\\series.py:4517: SettingWithCopyWarning: \n",
      "A value is trying to be set on a copy of a slice from a DataFrame\n",
      "\n",
      "See the caveats in the documentation: https://pandas.pydata.org/pandas-docs/stable/user_guide/indexing.html#returning-a-view-versus-a-copy\n",
      "  return super().fillna(\n"
     ]
    }
   ],
   "source": [
    "# Fill missing values categories\n",
    "df1_cleaned.fillna({\n",
    "    'Injury.Severity': 'Unknown',\n",
    "    'Aircraft.damage': 'Unknown',\n",
    "    'Weather.Condition': 'Unknown',\n",
    "    'Broad.phase.of.flight': 'Unknown',\n",
    "    'Purpose.of.flight': 'Unknown'\n",
    "}, inplace=True)\n"
   ]
  },
  {
   "cell_type": "code",
   "execution_count": 14,
   "metadata": {},
   "outputs": [
    {
     "data": {
      "text/plain": [
       "Make                       1522\n",
       "Model                      1551\n",
       "Injury.Severity               0\n",
       "Aircraft.damage               0\n",
       "Total.Fatal.Injuries      12860\n",
       "Total.Serious.Injuries    13969\n",
       "Total.Minor.Injuries      13392\n",
       "Total.Uninjured            7371\n",
       "Purpose.of.flight             0\n",
       "Weather.Condition             0\n",
       "Broad.phase.of.flight         0\n",
       "dtype: int64"
      ]
     },
     "execution_count": 14,
     "metadata": {},
     "output_type": "execute_result"
    }
   ],
   "source": [
    "#confirming the new filled values\n",
    "df1_cleaned.isnull().sum()  # Check for any remaining missing values"
   ]
  },
  {
   "cell_type": "code",
   "execution_count": 15,
   "metadata": {},
   "outputs": [
    {
     "name": "stderr",
     "output_type": "stream",
     "text": [
      "<ipython-input-15-6478392e6717>:2: SettingWithCopyWarning: \n",
      "A value is trying to be set on a copy of a slice from a DataFrame\n",
      "\n",
      "See the caveats in the documentation: https://pandas.pydata.org/pandas-docs/stable/user_guide/indexing.html#returning-a-view-versus-a-copy\n",
      "  df1_cleaned.dropna(subset=['Make', 'Model'], inplace=True)\n"
     ]
    }
   ],
   "source": [
    "# Drop entries missing both Make and Model\n",
    "df1_cleaned.dropna(subset=['Make', 'Model'], inplace=True)"
   ]
  },
  {
   "cell_type": "code",
   "execution_count": 16,
   "metadata": {},
   "outputs": [
    {
     "name": "stdout",
     "output_type": "stream",
     "text": [
      "<class 'pandas.core.frame.DataFrame'>\n",
      "Int64Index: 88777 entries, 0 to 90347\n",
      "Data columns (total 11 columns):\n",
      " #   Column                  Non-Null Count  Dtype  \n",
      "---  ------                  --------------  -----  \n",
      " 0   Make                    88777 non-null  object \n",
      " 1   Model                   88777 non-null  object \n",
      " 2   Injury.Severity         88777 non-null  object \n",
      " 3   Aircraft.damage         88777 non-null  object \n",
      " 4   Total.Fatal.Injuries    77391 non-null  float64\n",
      " 5   Total.Serious.Injuries  76287 non-null  float64\n",
      " 6   Total.Minor.Injuries    76863 non-null  float64\n",
      " 7   Total.Uninjured         82880 non-null  float64\n",
      " 8   Purpose.of.flight       88777 non-null  object \n",
      " 9   Weather.Condition       88777 non-null  object \n",
      " 10  Broad.phase.of.flight   88777 non-null  object \n",
      "dtypes: float64(4), object(7)\n",
      "memory usage: 8.1+ MB\n"
     ]
    }
   ],
   "source": [
    "#Confirming the new data after dropping the missing values\n",
    "df1_cleaned.info()  # Check for any remaining missing values"
   ]
  },
  {
   "cell_type": "markdown",
   "metadata": {},
   "source": [
    "# 2.) Risk Analysis:\n",
    "\n",
    "Determine which aircraft models/types have lower accident rates or less severe outcomes."
   ]
  },
  {
   "cell_type": "code",
   "execution_count": 17,
   "metadata": {},
   "outputs": [],
   "source": [
    "# Group and aggregate\n",
    "aircraft_risk = df1_cleaned.groupby(['Make', 'Model']).agg({\n",
    "    'Total.Fatal.Injuries': 'sum',\n",
    "    'Total.Serious.Injuries': 'sum',\n",
    "    'Total.Minor.Injuries': 'sum',\n",
    "    'Total.Uninjured': 'sum',\n",
    "    'Injury.Severity': 'count'\n",
    "}).rename(columns={'Injury.Severity': 'Total_Incidents'}).reset_index()"
   ]
  },
  {
   "cell_type": "code",
   "execution_count": 18,
   "metadata": {},
   "outputs": [
    {
     "name": "stdout",
     "output_type": "stream",
     "text": [
      "<class 'pandas.core.frame.DataFrame'>\n",
      "Int64Index: 88777 entries, 0 to 90347\n",
      "Data columns (total 11 columns):\n",
      " #   Column                  Non-Null Count  Dtype  \n",
      "---  ------                  --------------  -----  \n",
      " 0   Make                    88777 non-null  object \n",
      " 1   Model                   88777 non-null  object \n",
      " 2   Injury.Severity         88777 non-null  object \n",
      " 3   Aircraft.damage         88777 non-null  object \n",
      " 4   Total.Fatal.Injuries    77391 non-null  float64\n",
      " 5   Total.Serious.Injuries  76287 non-null  float64\n",
      " 6   Total.Minor.Injuries    76863 non-null  float64\n",
      " 7   Total.Uninjured         82880 non-null  float64\n",
      " 8   Purpose.of.flight       88777 non-null  object \n",
      " 9   Weather.Condition       88777 non-null  object \n",
      " 10  Broad.phase.of.flight   88777 non-null  object \n",
      "dtypes: float64(4), object(7)\n",
      "memory usage: 8.1+ MB\n"
     ]
    }
   ],
   "source": [
    "df1_cleaned.info()  # Check for any remaining missing values"
   ]
  },
  {
   "cell_type": "markdown",
   "metadata": {},
   "source": [
    "Now Creating a new column called Risk_Score in the aircraft_risk DataFrame and will be calculated based on injuries associated with each aircraft model or type.\n",
    "Formula to be used' Risk score = ((3×Fatal Injuries)+(2×Serious Injuries)+(1×Minor Injuries))/Total Incidents.\n",
    "\n",
    "3 used to represent higher risk\n",
    "\n",
    "2 represnt Medium risk\n",
    "\n",
    "1 represent low risk\n"
   ]
  },
  {
   "cell_type": "code",
   "execution_count": 19,
   "metadata": {},
   "outputs": [],
   "source": [
    "# Risk Score\n",
    "aircraft_risk['Risk_Score'] = (\n",
    "    (aircraft_risk['Total.Fatal.Injuries'] * 3) +\n",
    "    (aircraft_risk['Total.Serious.Injuries'] * 2) +\n",
    "    (aircraft_risk['Total.Minor.Injuries'] * 1)\n",
    ") / (aircraft_risk['Total_Incidents'])"
   ]
  },
  {
   "cell_type": "code",
   "execution_count": 20,
   "metadata": {},
   "outputs": [
    {
     "name": "stdout",
     "output_type": "stream",
     "text": [
      "<class 'pandas.core.frame.DataFrame'>\n",
      "RangeIndex: 20136 entries, 0 to 20135\n",
      "Data columns (total 8 columns):\n",
      " #   Column                  Non-Null Count  Dtype  \n",
      "---  ------                  --------------  -----  \n",
      " 0   Make                    20136 non-null  object \n",
      " 1   Model                   20136 non-null  object \n",
      " 2   Total.Fatal.Injuries    20136 non-null  float64\n",
      " 3   Total.Serious.Injuries  20136 non-null  float64\n",
      " 4   Total.Minor.Injuries    20136 non-null  float64\n",
      " 5   Total.Uninjured         20136 non-null  float64\n",
      " 6   Total_Incidents         20136 non-null  int64  \n",
      " 7   Risk_Score              20136 non-null  float64\n",
      "dtypes: float64(5), int64(1), object(2)\n",
      "memory usage: 1.2+ MB\n"
     ]
    }
   ],
   "source": [
    "aircraft_risk.info()"
   ]
  },
  {
   "cell_type": "code",
   "execution_count": 21,
   "metadata": {},
   "outputs": [],
   "source": [
    "# Filter to aircraft with at least 5 incidents\n",
    "aircraft_risk_filtered = aircraft_risk[aircraft_risk['Total_Incidents'] >= 5]"
   ]
  },
  {
   "cell_type": "code",
   "execution_count": 22,
   "metadata": {},
   "outputs": [
    {
     "name": "stdout",
     "output_type": "stream",
     "text": [
      "<class 'pandas.core.frame.DataFrame'>\n",
      "Int64Index: 2098 entries, 40 to 20082\n",
      "Data columns (total 8 columns):\n",
      " #   Column                  Non-Null Count  Dtype  \n",
      "---  ------                  --------------  -----  \n",
      " 0   Make                    2098 non-null   object \n",
      " 1   Model                   2098 non-null   object \n",
      " 2   Total.Fatal.Injuries    2098 non-null   float64\n",
      " 3   Total.Serious.Injuries  2098 non-null   float64\n",
      " 4   Total.Minor.Injuries    2098 non-null   float64\n",
      " 5   Total.Uninjured         2098 non-null   float64\n",
      " 6   Total_Incidents         2098 non-null   int64  \n",
      " 7   Risk_Score              2098 non-null   float64\n",
      "dtypes: float64(5), int64(1), object(2)\n",
      "memory usage: 147.5+ KB\n"
     ]
    }
   ],
   "source": [
    "aircraft_risk_filtered.info()"
   ]
  },
  {
   "cell_type": "code",
   "execution_count": 23,
   "metadata": {},
   "outputs": [
    {
     "data": {
      "text/html": [
       "<div>\n",
       "<style scoped>\n",
       "    .dataframe tbody tr th:only-of-type {\n",
       "        vertical-align: middle;\n",
       "    }\n",
       "\n",
       "    .dataframe tbody tr th {\n",
       "        vertical-align: top;\n",
       "    }\n",
       "\n",
       "    .dataframe thead th {\n",
       "        text-align: right;\n",
       "    }\n",
       "</style>\n",
       "<table border=\"1\" class=\"dataframe\">\n",
       "  <thead>\n",
       "    <tr style=\"text-align: right;\">\n",
       "      <th></th>\n",
       "      <th>Make</th>\n",
       "      <th>Model</th>\n",
       "      <th>Total.Fatal.Injuries</th>\n",
       "      <th>Total.Serious.Injuries</th>\n",
       "      <th>Total.Minor.Injuries</th>\n",
       "      <th>Total.Uninjured</th>\n",
       "      <th>Total_Incidents</th>\n",
       "      <th>Risk_Score</th>\n",
       "    </tr>\n",
       "  </thead>\n",
       "  <tbody>\n",
       "    <tr>\n",
       "      <th>4888</th>\n",
       "      <td>CESSNA</td>\n",
       "      <td>150C</td>\n",
       "      <td>0.0</td>\n",
       "      <td>0.0</td>\n",
       "      <td>0.0</td>\n",
       "      <td>7.0</td>\n",
       "      <td>5</td>\n",
       "      <td>0.0</td>\n",
       "    </tr>\n",
       "    <tr>\n",
       "      <th>13046</th>\n",
       "      <td>Mcdonnell Douglas</td>\n",
       "      <td>DC-10-40</td>\n",
       "      <td>0.0</td>\n",
       "      <td>0.0</td>\n",
       "      <td>0.0</td>\n",
       "      <td>965.0</td>\n",
       "      <td>7</td>\n",
       "      <td>0.0</td>\n",
       "    </tr>\n",
       "    <tr>\n",
       "      <th>12043</th>\n",
       "      <td>Let</td>\n",
       "      <td>L-23</td>\n",
       "      <td>0.0</td>\n",
       "      <td>0.0</td>\n",
       "      <td>0.0</td>\n",
       "      <td>10.0</td>\n",
       "      <td>7</td>\n",
       "      <td>0.0</td>\n",
       "    </tr>\n",
       "    <tr>\n",
       "      <th>3325</th>\n",
       "      <td>Beech</td>\n",
       "      <td>F90</td>\n",
       "      <td>0.0</td>\n",
       "      <td>0.0</td>\n",
       "      <td>0.0</td>\n",
       "      <td>17.0</td>\n",
       "      <td>7</td>\n",
       "      <td>0.0</td>\n",
       "    </tr>\n",
       "    <tr>\n",
       "      <th>7747</th>\n",
       "      <td>Douglas</td>\n",
       "      <td>DC-8-71</td>\n",
       "      <td>0.0</td>\n",
       "      <td>0.0</td>\n",
       "      <td>0.0</td>\n",
       "      <td>918.0</td>\n",
       "      <td>5</td>\n",
       "      <td>0.0</td>\n",
       "    </tr>\n",
       "    <tr>\n",
       "      <th>18108</th>\n",
       "      <td>Socata</td>\n",
       "      <td>TB-9</td>\n",
       "      <td>0.0</td>\n",
       "      <td>0.0</td>\n",
       "      <td>0.0</td>\n",
       "      <td>11.0</td>\n",
       "      <td>5</td>\n",
       "      <td>0.0</td>\n",
       "    </tr>\n",
       "    <tr>\n",
       "      <th>7763</th>\n",
       "      <td>Douglas</td>\n",
       "      <td>DC-9-51</td>\n",
       "      <td>0.0</td>\n",
       "      <td>0.0</td>\n",
       "      <td>0.0</td>\n",
       "      <td>816.0</td>\n",
       "      <td>7</td>\n",
       "      <td>0.0</td>\n",
       "    </tr>\n",
       "    <tr>\n",
       "      <th>7931</th>\n",
       "      <td>EMBRAER</td>\n",
       "      <td>EMB145</td>\n",
       "      <td>0.0</td>\n",
       "      <td>0.0</td>\n",
       "      <td>0.0</td>\n",
       "      <td>326.0</td>\n",
       "      <td>8</td>\n",
       "      <td>0.0</td>\n",
       "    </tr>\n",
       "    <tr>\n",
       "      <th>12892</th>\n",
       "      <td>Maule</td>\n",
       "      <td>MX7</td>\n",
       "      <td>0.0</td>\n",
       "      <td>0.0</td>\n",
       "      <td>0.0</td>\n",
       "      <td>7.0</td>\n",
       "      <td>5</td>\n",
       "      <td>0.0</td>\n",
       "    </tr>\n",
       "    <tr>\n",
       "      <th>15359</th>\n",
       "      <td>Piper</td>\n",
       "      <td>PA38</td>\n",
       "      <td>0.0</td>\n",
       "      <td>0.0</td>\n",
       "      <td>0.0</td>\n",
       "      <td>14.0</td>\n",
       "      <td>8</td>\n",
       "      <td>0.0</td>\n",
       "    </tr>\n",
       "  </tbody>\n",
       "</table>\n",
       "</div>"
      ],
      "text/plain": [
       "                    Make     Model  Total.Fatal.Injuries  \\\n",
       "4888              CESSNA      150C                   0.0   \n",
       "13046  Mcdonnell Douglas  DC-10-40                   0.0   \n",
       "12043                Let      L-23                   0.0   \n",
       "3325               Beech       F90                   0.0   \n",
       "7747             Douglas   DC-8-71                   0.0   \n",
       "18108             Socata      TB-9                   0.0   \n",
       "7763             Douglas   DC-9-51                   0.0   \n",
       "7931             EMBRAER    EMB145                   0.0   \n",
       "12892              Maule       MX7                   0.0   \n",
       "15359              Piper      PA38                   0.0   \n",
       "\n",
       "       Total.Serious.Injuries  Total.Minor.Injuries  Total.Uninjured  \\\n",
       "4888                      0.0                   0.0              7.0   \n",
       "13046                     0.0                   0.0            965.0   \n",
       "12043                     0.0                   0.0             10.0   \n",
       "3325                      0.0                   0.0             17.0   \n",
       "7747                      0.0                   0.0            918.0   \n",
       "18108                     0.0                   0.0             11.0   \n",
       "7763                      0.0                   0.0            816.0   \n",
       "7931                      0.0                   0.0            326.0   \n",
       "12892                     0.0                   0.0              7.0   \n",
       "15359                     0.0                   0.0             14.0   \n",
       "\n",
       "       Total_Incidents  Risk_Score  \n",
       "4888                 5         0.0  \n",
       "13046                7         0.0  \n",
       "12043                7         0.0  \n",
       "3325                 7         0.0  \n",
       "7747                 5         0.0  \n",
       "18108                5         0.0  \n",
       "7763                 7         0.0  \n",
       "7931                 8         0.0  \n",
       "12892                5         0.0  \n",
       "15359                8         0.0  "
      ]
     },
     "execution_count": 23,
     "metadata": {},
     "output_type": "execute_result"
    }
   ],
   "source": [
    "# Low risk aircraft\n",
    "low_risk_aircraft = aircraft_risk_filtered.sort_values('Risk_Score').head(10)\n",
    "low_risk_aircraft\n"
   ]
  },
  {
   "cell_type": "markdown",
   "metadata": {},
   "source": [
    "# 3.) Visualization of Aircrafts in terms of their risks"
   ]
  },
  {
   "cell_type": "markdown",
   "metadata": {},
   "source": [
    "## Visualization i): Risk Score Distribution"
   ]
  },
  {
   "cell_type": "code",
   "execution_count": 24,
   "metadata": {},
   "outputs": [
    {
     "data": {
      "image/png": "[encoded data removed]",
      "text/plain": [
       "<Figure size 720x432 with 1 Axes>"
      ]
     },
     "metadata": {
      "needs_background": "light"
     },
     "output_type": "display_data"
    }
   ],
   "source": [
    " #Risk Score Distribution\n",
    "plt.figure(figsize=(10,6))\n",
    "sns.histplot(aircraft_risk['Risk_Score'], bins=30, kde=True, color='red')\n",
    "plt.title('Distribution of Aircraft Risk Scores', fontsize=16)\n",
    "plt.xlabel('Risk Score', fontsize=14)\n",
    "plt.ylabel('Number of Aircraft Models', fontsize=14)\n",
    "plt.grid(True)\n",
    "plt.show()\n"
   ]
  },
  {
   "cell_type": "markdown",
   "metadata": {},
   "source": [
    "## Understanding the above visualization\n",
    "\n",
    "Peak near 0: Most aircrafts have a Risk Score close to 0, meaning very safe with no fatalities or injuries.\n",
    "\n",
    "Long Right Tail: A small number of aircrafts have higher Risk Scores — these are the riskiest ones.\n",
    "\n",
    "Skewed Distribution: Positive skew shows that risky aircrafts are rare, but when risk happens, it's significant.\n"
   ]
  },
  {
   "cell_type": "markdown",
   "metadata": {},
   "source": [
    "## Visualization ii): Top 10 Riskiest Aircraft Models"
   ]
  },
  {
   "cell_type": "code",
   "execution_count": 25,
   "metadata": {},
   "outputs": [
    {
     "data": {
      "image/png": "[encoded data removed]",
      "text/plain": [
       "<Figure size 864x432 with 1 Axes>"
      ]
     },
     "metadata": {
      "needs_background": "light"
     },
     "output_type": "display_data"
    }
   ],
   "source": [
    "# Top 10 Risky aircraft\n",
    "top10_risky = aircraft_risk.sort_values(by='Risk_Score', ascending=False).head(10)\n",
    "\n",
    "plt.figure(figsize=(12,6))\n",
    "sns.barplot(data=top10_risky, x='Risk_Score', y=top10_risky['Make'] + \" \" + top10_risky['Model'], palette='Reds_r')\n",
    "plt.title('Top 10 Riskiest Aircraft Models', fontsize=16)\n",
    "plt.xlabel('Risk Score', fontsize=14)\n",
    "plt.ylabel('Aircraft Model', fontsize=14)\n",
    "plt.grid(axis='x')\n",
    "plt.show()\n"
   ]
  },
  {
   "cell_type": "markdown",
   "metadata": {},
   "source": [
    "These aircrafts account for the majority of total risk in the dataset"
   ]
  },
  {
   "cell_type": "markdown",
   "metadata": {},
   "source": [
    "# Visualization iii): Scatter Plot - Fatal Injuries vs. Total Incidents"
   ]
  },
  {
   "cell_type": "code",
   "execution_count": 26,
   "metadata": {},
   "outputs": [
    {
     "data": {
      "image/png": "[encoded data removed]",
      "text/plain": [
       "<Figure size 720x432 with 1 Axes>"
      ]
     },
     "metadata": {
      "needs_background": "light"
     },
     "output_type": "display_data"
    }
   ],
   "source": [
    "plt.figure(figsize=(10,6))\n",
    "sns.scatterplot(\n",
    "    data=aircraft_risk,\n",
    "    x='Total_Incidents',\n",
    "    y='Total.Fatal.Injuries',\n",
    "    hue='Risk_Score',\n",
    "    size='Risk_Score',\n",
    "    sizes=(20, 200),\n",
    "    palette='coolwarm'\n",
    ")\n",
    "plt.title('Fatal Injuries vs Total Incidents', fontsize=16)\n",
    "plt.xlabel('Total Incidents', fontsize=14)\n",
    "plt.ylabel('Total Fatal Injuries', fontsize=14)\n",
    "plt.legend(title='Risk Score')\n",
    "plt.grid(True)\n",
    "plt.show()\n"
   ]
  },
  {
   "cell_type": "markdown",
   "metadata": {},
   "source": [
    "### Understanding the scatter plot\n",
    "\n",
    "Lower left cluster: Many aircrafts with low incidents and no fatalities — these are safe.\n",
    "\n",
    "Upper right outliers: Aircrafts with high incidents and high fatalities — these are dangerous.\n",
    "\n",
    "Isolated Fatalities: Some aircrafts have high fatal injuries even with fewer incidents — suggesting severe accidents."
   ]
  },
  {
   "cell_type": "markdown",
   "metadata": {},
   "source": [
    "## Visualization iv): Heatmap - Correlation Between Injury Types"
   ]
  },
  {
   "cell_type": "code",
   "execution_count": 27,
   "metadata": {},
   "outputs": [
    {
     "data": {
      "image/png": "[encoded data removed]",
      "text/plain": [
       "<Figure size 720x576 with 2 Axes>"
      ]
     },
     "metadata": {
      "needs_background": "light"
     },
     "output_type": "display_data"
    }
   ],
   "source": [
    "plt.figure(figsize=(10,8))\n",
    "sns.heatmap(\n",
    "    aircraft_risk[['Total.Fatal.Injuries', 'Total.Serious.Injuries', 'Total.Minor.Injuries', 'Total.Uninjured']].corr(),\n",
    "    annot=True,\n",
    "    cmap='coolwarm',\n",
    "    square=True\n",
    ")\n",
    "plt.title('Correlation Between Injury Types', fontsize=16)\n",
    "plt.show()\n"
   ]
  },
  {
   "cell_type": "markdown",
   "metadata": {},
   "source": [
    "### Understanding the heatmap corr\n",
    "High positive correlation between Fatal and Serious Injuries ➔ severe accidents tend to cause both.\n",
    "\n",
    "Negative correlation between Fatalities and Uninjured ➔ The more fatalities, the fewer uninjured.\n",
    "\n",
    "Minor injuries might have weaker correlation with fatal/serious injuries ➔ Minor accidents are often different in nature."
   ]
  },
  {
   "cell_type": "markdown",
   "metadata": {},
   "source": [
    "# Visualization v): Barplot - Safest Aircraft Models"
   ]
  },
  {
   "cell_type": "code",
   "execution_count": 28,
   "metadata": {},
   "outputs": [
    {
     "data": {
      "image/png": "[encoded data removed]",
      "text/plain": [
       "<Figure size 864x432 with 1 Axes>"
      ]
     },
     "metadata": {
      "needs_background": "light"
     },
     "output_type": "display_data"
    }
   ],
   "source": [
    "# Recreating my DataFrame\n",
    "data = low_risk_aircraft\n",
    "# Create DataFrame\n",
    "safe_aircraft = pd.DataFrame(data)\n",
    "\n",
    "# Combine 'Make' and 'Model' for better labeling\n",
    "safe_aircraft['Aircraft'] = safe_aircraft['Make'] + ' ' + safe_aircraft['Model']\n",
    "\n",
    "# Set figure size\n",
    "plt.figure(figsize=(12, 6))\n",
    "\n",
    "# Create the barplot\n",
    "ax = sns.barplot(\n",
    "    data=safe_aircraft.sort_values(by='Total_Incidents', ascending=False),\n",
    "    x='Total_Incidents',\n",
    "    y='Aircraft',\n",
    "    palette='Blues_r'\n",
    ")\n",
    "\n",
    "# Title and labels\n",
    "plt.title('Safest Aircraft Models (Risk Score = 0)', fontsize=16)\n",
    "plt.xlabel('Total Number of Incidents', fontsize=14)\n",
    "plt.ylabel('Aircraft Model', fontsize=14)\n",
    "\n",
    "# Add value labels on each bar\n",
    "for i in ax.patches:\n",
    "    plt.text(\n",
    "        i.get_width() + 0.1,  # Slightly to the right of the bar\n",
    "        i.get_y() + i.get_height() / 2,  # Vertically centered\n",
    "        f'{int(i.get_width())}',  # The number\n",
    "        fontsize=12,\n",
    "        color='black',\n",
    "        va='center'\n",
    "    )\n",
    "\n",
    "# Add gridlines\n",
    "plt.grid(axis='x', linestyle='--', alpha=0.7)\n",
    "\n",
    "# Display the plot\n",
    "plt.show()\n"
   ]
  },
  {
   "cell_type": "markdown",
   "metadata": {},
   "source": [
    "Key Observations from the above graph\n",
    "\n",
    "All Aircrafts have zero Risk Score no deaths, no injuries reported despite incidents — great safety record!\n",
    "Incident Counts vary while some aircraft had more incidents (8 incidents for Piper PA38 and EMBRAER EMB145) but still no injuries. Others had only 5 incidents (e.g., CESSNA 150C, Maule MX7).\n",
    "\n",
    "Larger Aircrafts are inherently safer models like Mcdonnell Douglas DC-10-40 and Douglas DC-8-71 (big commercial jets) show very high \"Total Uninjured\" numbers (816-965 passengers) — despite incidents, no harm.\n",
    "\n",
    "Light Aircrafts also perform well small planes like CESSNA 150C and Maule MX7 also have a perfect record,although with fewer total passengers involved.\n",
    "\n",
    "Consistency Across Manufacturers No single manufacturer is dominant — Cessna, Piper, McDonnell Douglas, Beech, Douglas, EMBRAER all appear, showing safety across brands."
   ]
  },
  {
   "cell_type": "markdown",
   "metadata": {},
   "source": [
    "# 4.)  Business Recommendations"
   ]
  },
  {
   "cell_type": "markdown",
   "metadata": {},
   "source": [
    "Based on the above analysis, the below aircraft models are recommended for acquisition:\n",
    "\n",
    "- **CESSNA 150C**\n",
    "- **Mcdonnell Douglas DC-10-40**\n",
    "- **Let L-23**\n",
    "- **Beech F90**\n",
    "- **Douglas DC-8-71**\n",
    "- **Socata TB-9**\n",
    "- **Douglas DC-9-51**\n",
    "- **EMBRAER EMB145**\n",
    "- **Maule MX7**\n",
    "- **Piper PA38**\n",
    "\n",
    "**Reasons**\n",
    "- These aircraft have shown zero fatalities or serious injuries in recorded incidents.\n",
    "- They had multiple incidents but resulted only in \"Uninjured\" outcomes.\n",
    "\n",
    "### Final Recommendation\n",
    "To ensure a strong and secure entry into the aviation industry, we recommend prioritizing the acquisition and leasing of the above models. These aircraft have a demonstrated track record of operational safety, significantly reducing business risk while ensuring reliable performance\n"
   ]
  },
  {
   "cell_type": "code",
   "execution_count": 29,
   "metadata": {},
   "outputs": [],
   "source": [
    "#saving copies of df_cleaned, df_filtered and risk_analysis dataframe \n",
    "df1_cleaned.to_csv('df1_cleaned.csv', index=False)"
   ]
  },
  {
   "cell_type": "code",
   "execution_count": 30,
   "metadata": {},
   "outputs": [],
   "source": [
    "aircraft_risk.to_csv('risk_analysis.csv', index=False)"
   ]
  },
  {
   "cell_type": "code",
   "execution_count": 31,
   "metadata": {},
   "outputs": [],
   "source": [
    "#TOP 20 Fatal Injuries vs. Total Incidents\n",
    "df1_cleaned.sort_values(by='Total.Fatal.Injuries', ascending=False).head(20).to_csv('top_20_fatal_injuries.csv', index=False)"
   ]
  },
  {
   "cell_type": "code",
   "execution_count": 32,
   "metadata": {},
   "outputs": [],
   "source": [
    "# newly created dataframe with the top 20 fatal injuries\n",
    "top_20_fatal_injuries = df1_cleaned.sort_values(by='Total.Fatal.Injuries', ascending=False).head(20)\n",
    "top_20_fatal_injuries.to_csv('top_20_fatal_injuries.csv', index=False)"
   ]
  }
 ],
 "metadata": {
  "kernelspec": {
   "display_name": "learn-env",
   "language": "python",
   "name": "python3"
  },
  "language_info": {
   "codemirror_mode": {
    "name": "ipython",
    "version": 3
   },
   "file_extension": ".py",
   "mimetype": "text/x-python",
   "name": "python",
   "nbconvert_exporter": "python",
   "pygments_lexer": "ipython3",
   "version": "3.8.5"
  }
 },
 "nbformat": 4,
 "nbformat_minor": 2
}
